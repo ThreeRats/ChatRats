{
 "cells": [
  {
   "attachments": {},
   "cell_type": "markdown",
   "metadata": {},
   "source": [
    "## 配置环境"
   ]
  },
  {
   "cell_type": "code",
   "execution_count": 3,
   "metadata": {},
   "outputs": [
    {
     "name": "stdout",
     "output_type": "stream",
     "text": [
      "Reading package lists... Done\n",
      "Building dependency tree... Done\n",
      "Reading state information... Done\n",
      "git-lfs is already the newest version (3.0.2-1ubuntu0.2).\n",
      "0 upgraded, 0 newly installed, 0 to remove and 3 not upgraded.\n"
     ]
    }
   ],
   "source": [
    "# 安装git lfs\n",
    "!apt install git-lfs"
   ]
  },
  {
   "cell_type": "code",
   "execution_count": 5,
   "metadata": {},
   "outputs": [
    {
     "name": "stdout",
     "output_type": "stream",
     "text": [
      "/root/autodl-tmp/model/knowledge_base/ChatRats/ptuning\n",
      "/root/autodl-tmp/model/knowledge_base/ChatRats/ptuning\n"
     ]
    }
   ],
   "source": [
    "# 从huggingface上拉取模型\n",
    "!pwd\n",
    "!cd .. && git lfs install && git clone https://huggingface.co/THUDM/chatglm-6b-int4"
   ]
  },
  {
   "cell_type": "code",
   "execution_count": null,
   "metadata": {},
   "outputs": [],
   "source": [
    "# 安装cuda\n",
    "!apt install nvidia-cuda-toolkit"
   ]
  },
  {
   "cell_type": "code",
   "execution_count": 8,
   "metadata": {},
   "outputs": [
    {
     "name": "stdout",
     "output_type": "stream",
     "text": [
      "\n",
      "CommandNotFoundError: Your shell has not been properly configured to use 'conda activate'.\n",
      "To initialize your shell, run\n",
      "\n",
      "    $ conda init <SHELL_NAME>\n",
      "\n",
      "Currently supported shells are:\n",
      "  - bash\n",
      "  - fish\n",
      "  - tcsh\n",
      "  - xonsh\n",
      "  - zsh\n",
      "  - powershell\n",
      "\n",
      "See 'conda init --help' for more information and options.\n",
      "\n",
      "IMPORTANT: You may need to close and restart your shell after running 'conda init'.\n",
      "\n",
      "\n",
      "Looking in indexes: https://pypi.tuna.tsinghua.edu.cn/simple\n",
      "Requirement already satisfied: protobuf in /root/miniconda3/envs/NLPpython/lib/python3.10/site-packages (from -r requirements.txt (line 1)) (3.20.3)\n",
      "Requirement already satisfied: transformers==4.27.1 in /root/miniconda3/envs/NLPpython/lib/python3.10/site-packages (from -r requirements.txt (line 2)) (4.27.1)\n",
      "Requirement already satisfied: cpm_kernels in /root/miniconda3/envs/NLPpython/lib/python3.10/site-packages (from -r requirements.txt (line 3)) (1.0.11)\n",
      "Requirement already satisfied: torch>=1.10 in /root/miniconda3/envs/NLPpython/lib/python3.10/site-packages (from -r requirements.txt (line 4)) (2.0.0)\n",
      "Requirement already satisfied: gradio in /root/miniconda3/envs/NLPpython/lib/python3.10/site-packages (from -r requirements.txt (line 5)) (3.32.0)\n",
      "Requirement already satisfied: mdtex2html in /root/miniconda3/envs/NLPpython/lib/python3.10/site-packages (from -r requirements.txt (line 6)) (1.2.0)\n",
      "Requirement already satisfied: sentencepiece in /root/miniconda3/envs/NLPpython/lib/python3.10/site-packages (from -r requirements.txt (line 7)) (0.1.99)\n",
      "Requirement already satisfied: accelerate in /root/miniconda3/envs/NLPpython/lib/python3.10/site-packages (from -r requirements.txt (line 8)) (0.19.0)\n",
      "Requirement already satisfied: chardet in /root/miniconda3/envs/NLPpython/lib/python3.10/site-packages (from -r requirements.txt (line 9)) (5.1.0)\n",
      "Requirement already satisfied: streamlit in /root/miniconda3/envs/NLPpython/lib/python3.10/site-packages (from -r requirements.txt (line 10)) (1.22.0)\n",
      "Requirement already satisfied: streamlit-chat in /root/miniconda3/envs/NLPpython/lib/python3.10/site-packages (from -r requirements.txt (line 11)) (0.0.2.2)\n",
      "Requirement already satisfied: requests in /root/miniconda3/envs/NLPpython/lib/python3.10/site-packages (from transformers==4.27.1->-r requirements.txt (line 2)) (2.30.0)\n",
      "Requirement already satisfied: pyyaml>=5.1 in /root/miniconda3/envs/NLPpython/lib/python3.10/site-packages (from transformers==4.27.1->-r requirements.txt (line 2)) (6.0)\n",
      "Requirement already satisfied: filelock in /root/miniconda3/envs/NLPpython/lib/python3.10/site-packages (from transformers==4.27.1->-r requirements.txt (line 2)) (3.12.0)\n",
      "Requirement already satisfied: regex!=2019.12.17 in /root/miniconda3/envs/NLPpython/lib/python3.10/site-packages (from transformers==4.27.1->-r requirements.txt (line 2)) (2023.5.5)\n",
      "Requirement already satisfied: tqdm>=4.27 in /root/miniconda3/envs/NLPpython/lib/python3.10/site-packages (from transformers==4.27.1->-r requirements.txt (line 2)) (4.65.0)\n",
      "Requirement already satisfied: packaging>=20.0 in /root/miniconda3/envs/NLPpython/lib/python3.10/site-packages (from transformers==4.27.1->-r requirements.txt (line 2)) (23.1)\n",
      "Requirement already satisfied: numpy>=1.17 in /root/miniconda3/envs/NLPpython/lib/python3.10/site-packages (from transformers==4.27.1->-r requirements.txt (line 2)) (1.24.3)\n",
      "Requirement already satisfied: huggingface-hub<1.0,>=0.11.0 in /root/miniconda3/envs/NLPpython/lib/python3.10/site-packages (from transformers==4.27.1->-r requirements.txt (line 2)) (0.14.1)\n",
      "Requirement already satisfied: tokenizers!=0.11.3,<0.14,>=0.11.1 in /root/miniconda3/envs/NLPpython/lib/python3.10/site-packages (from transformers==4.27.1->-r requirements.txt (line 2)) (0.13.3)\n",
      "Requirement already satisfied: nvidia-cusparse-cu11==11.7.4.91 in /root/miniconda3/envs/NLPpython/lib/python3.10/site-packages (from torch>=1.10->-r requirements.txt (line 4)) (11.7.4.91)\n",
      "Requirement already satisfied: sympy in /root/miniconda3/envs/NLPpython/lib/python3.10/site-packages (from torch>=1.10->-r requirements.txt (line 4)) (1.11.1)\n",
      "Requirement already satisfied: nvidia-nvtx-cu11==11.7.91 in /root/miniconda3/envs/NLPpython/lib/python3.10/site-packages (from torch>=1.10->-r requirements.txt (line 4)) (11.7.91)\n",
      "Requirement already satisfied: nvidia-cuda-nvrtc-cu11==11.7.99 in /root/miniconda3/envs/NLPpython/lib/python3.10/site-packages (from torch>=1.10->-r requirements.txt (line 4)) (11.7.99)\n",
      "Requirement already satisfied: nvidia-cuda-runtime-cu11==11.7.99 in /root/miniconda3/envs/NLPpython/lib/python3.10/site-packages (from torch>=1.10->-r requirements.txt (line 4)) (11.7.99)\n",
      "Requirement already satisfied: nvidia-curand-cu11==10.2.10.91 in /root/miniconda3/envs/NLPpython/lib/python3.10/site-packages (from torch>=1.10->-r requirements.txt (line 4)) (10.2.10.91)\n",
      "Requirement already satisfied: nvidia-nccl-cu11==2.14.3 in /root/miniconda3/envs/NLPpython/lib/python3.10/site-packages (from torch>=1.10->-r requirements.txt (line 4)) (2.14.3)\n",
      "Requirement already satisfied: typing-extensions in /root/miniconda3/envs/NLPpython/lib/python3.10/site-packages (from torch>=1.10->-r requirements.txt (line 4)) (4.5.0)\n",
      "Requirement already satisfied: jinja2 in /root/miniconda3/envs/NLPpython/lib/python3.10/site-packages (from torch>=1.10->-r requirements.txt (line 4)) (3.1.2)\n",
      "Requirement already satisfied: nvidia-cublas-cu11==11.10.3.66 in /root/miniconda3/envs/NLPpython/lib/python3.10/site-packages (from torch>=1.10->-r requirements.txt (line 4)) (11.10.3.66)\n",
      "Requirement already satisfied: nvidia-cusolver-cu11==11.4.0.1 in /root/miniconda3/envs/NLPpython/lib/python3.10/site-packages (from torch>=1.10->-r requirements.txt (line 4)) (11.4.0.1)\n",
      "Requirement already satisfied: nvidia-cudnn-cu11==8.5.0.96 in /root/miniconda3/envs/NLPpython/lib/python3.10/site-packages (from torch>=1.10->-r requirements.txt (line 4)) (8.5.0.96)\n",
      "Requirement already satisfied: networkx in /root/miniconda3/envs/NLPpython/lib/python3.10/site-packages (from torch>=1.10->-r requirements.txt (line 4)) (3.1)\n",
      "Requirement already satisfied: nvidia-cuda-cupti-cu11==11.7.101 in /root/miniconda3/envs/NLPpython/lib/python3.10/site-packages (from torch>=1.10->-r requirements.txt (line 4)) (11.7.101)\n",
      "Requirement already satisfied: nvidia-cufft-cu11==10.9.0.58 in /root/miniconda3/envs/NLPpython/lib/python3.10/site-packages (from torch>=1.10->-r requirements.txt (line 4)) (10.9.0.58)\n",
      "Requirement already satisfied: triton==2.0.0 in /root/miniconda3/envs/NLPpython/lib/python3.10/site-packages (from torch>=1.10->-r requirements.txt (line 4)) (2.0.0)\n",
      "Requirement already satisfied: setuptools in /root/miniconda3/envs/NLPpython/lib/python3.10/site-packages (from nvidia-cublas-cu11==11.10.3.66->torch>=1.10->-r requirements.txt (line 4)) (66.0.0)\n",
      "Requirement already satisfied: wheel in /root/miniconda3/envs/NLPpython/lib/python3.10/site-packages (from nvidia-cublas-cu11==11.10.3.66->torch>=1.10->-r requirements.txt (line 4)) (0.38.4)\n",
      "Requirement already satisfied: lit in /root/miniconda3/envs/NLPpython/lib/python3.10/site-packages (from triton==2.0.0->torch>=1.10->-r requirements.txt (line 4)) (16.0.5)\n",
      "Requirement already satisfied: cmake in /root/miniconda3/envs/NLPpython/lib/python3.10/site-packages (from triton==2.0.0->torch>=1.10->-r requirements.txt (line 4)) (3.26.3)\n",
      "Requirement already satisfied: pillow in /root/miniconda3/envs/NLPpython/lib/python3.10/site-packages (from gradio->-r requirements.txt (line 5)) (9.5.0)\n",
      "Requirement already satisfied: matplotlib in /root/miniconda3/envs/NLPpython/lib/python3.10/site-packages (from gradio->-r requirements.txt (line 5)) (3.7.1)\n",
      "Requirement already satisfied: orjson in /root/miniconda3/envs/NLPpython/lib/python3.10/site-packages (from gradio->-r requirements.txt (line 5)) (3.8.12)\n",
      "Requirement already satisfied: pygments>=2.12.0 in /root/miniconda3/envs/NLPpython/lib/python3.10/site-packages (from gradio->-r requirements.txt (line 5)) (2.15.1)\n",
      "Requirement already satisfied: pydub in /root/miniconda3/envs/NLPpython/lib/python3.10/site-packages (from gradio->-r requirements.txt (line 5)) (0.25.1)\n",
      "Requirement already satisfied: uvicorn>=0.14.0 in /root/miniconda3/envs/NLPpython/lib/python3.10/site-packages (from gradio->-r requirements.txt (line 5)) (0.22.0)\n",
      "Requirement already satisfied: gradio-client>=0.2.4 in /root/miniconda3/envs/NLPpython/lib/python3.10/site-packages (from gradio->-r requirements.txt (line 5)) (0.2.5)\n",
      "Requirement already satisfied: pandas in /root/miniconda3/envs/NLPpython/lib/python3.10/site-packages (from gradio->-r requirements.txt (line 5)) (2.0.1)\n",
      "Requirement already satisfied: aiohttp in /root/miniconda3/envs/NLPpython/lib/python3.10/site-packages (from gradio->-r requirements.txt (line 5)) (3.8.4)\n",
      "Requirement already satisfied: python-multipart in /root/miniconda3/envs/NLPpython/lib/python3.10/site-packages (from gradio->-r requirements.txt (line 5)) (0.0.6)\n",
      "Requirement already satisfied: pydantic in /root/miniconda3/envs/NLPpython/lib/python3.10/site-packages (from gradio->-r requirements.txt (line 5)) (1.10.7)\n",
      "Requirement already satisfied: httpx in /root/miniconda3/envs/NLPpython/lib/python3.10/site-packages (from gradio->-r requirements.txt (line 5)) (0.24.0)\n",
      "Requirement already satisfied: altair>=4.2.0 in /root/miniconda3/envs/NLPpython/lib/python3.10/site-packages (from gradio->-r requirements.txt (line 5)) (4.2.2)\n",
      "Requirement already satisfied: markupsafe in /root/miniconda3/envs/NLPpython/lib/python3.10/site-packages (from gradio->-r requirements.txt (line 5)) (2.1.2)\n",
      "Requirement already satisfied: markdown-it-py[linkify]>=2.0.0 in /root/miniconda3/envs/NLPpython/lib/python3.10/site-packages (from gradio->-r requirements.txt (line 5)) (2.2.0)\n",
      "Requirement already satisfied: mdit-py-plugins<=0.3.3 in /root/miniconda3/envs/NLPpython/lib/python3.10/site-packages (from gradio->-r requirements.txt (line 5)) (0.3.3)\n",
      "Requirement already satisfied: semantic-version in /root/miniconda3/envs/NLPpython/lib/python3.10/site-packages (from gradio->-r requirements.txt (line 5)) (2.10.0)\n",
      "Requirement already satisfied: websockets>=10.0 in /root/miniconda3/envs/NLPpython/lib/python3.10/site-packages (from gradio->-r requirements.txt (line 5)) (11.0.3)\n",
      "Requirement already satisfied: ffmpy in /root/miniconda3/envs/NLPpython/lib/python3.10/site-packages (from gradio->-r requirements.txt (line 5)) (0.3.0)\n",
      "Requirement already satisfied: fastapi in /root/miniconda3/envs/NLPpython/lib/python3.10/site-packages (from gradio->-r requirements.txt (line 5)) (0.95.1)\n",
      "Requirement already satisfied: aiofiles in /root/miniconda3/envs/NLPpython/lib/python3.10/site-packages (from gradio->-r requirements.txt (line 5)) (23.1.0)\n",
      "Requirement already satisfied: markdown in /root/miniconda3/envs/NLPpython/lib/python3.10/site-packages (from mdtex2html->-r requirements.txt (line 6)) (3.4.3)\n",
      "Requirement already satisfied: latex2mathml in /root/miniconda3/envs/NLPpython/lib/python3.10/site-packages (from mdtex2html->-r requirements.txt (line 6)) (3.75.5)\n",
      "Requirement already satisfied: psutil in /root/miniconda3/envs/NLPpython/lib/python3.10/site-packages (from accelerate->-r requirements.txt (line 8)) (5.9.5)\n",
      "Requirement already satisfied: tornado>=6.0.3 in /root/miniconda3/envs/NLPpython/lib/python3.10/site-packages (from streamlit->-r requirements.txt (line 10)) (6.3.1)\n",
      "Requirement already satisfied: gitpython!=3.1.19 in /root/miniconda3/envs/NLPpython/lib/python3.10/site-packages (from streamlit->-r requirements.txt (line 10)) (3.1.31)\n",
      "Requirement already satisfied: blinker>=1.0.0 in /root/miniconda3/envs/NLPpython/lib/python3.10/site-packages (from streamlit->-r requirements.txt (line 10)) (1.6.2)\n",
      "Requirement already satisfied: pyarrow>=4.0 in /root/miniconda3/envs/NLPpython/lib/python3.10/site-packages (from streamlit->-r requirements.txt (line 10)) (12.0.0)\n",
      "Requirement already satisfied: watchdog in /root/miniconda3/envs/NLPpython/lib/python3.10/site-packages (from streamlit->-r requirements.txt (line 10)) (3.0.0)\n",
      "Requirement already satisfied: click>=7.0 in /root/miniconda3/envs/NLPpython/lib/python3.10/site-packages (from streamlit->-r requirements.txt (line 10)) (8.1.3)\n",
      "Requirement already satisfied: tenacity<9,>=8.0.0 in /root/miniconda3/envs/NLPpython/lib/python3.10/site-packages (from streamlit->-r requirements.txt (line 10)) (8.2.2)\n",
      "Requirement already satisfied: tzlocal>=1.1 in /root/miniconda3/envs/NLPpython/lib/python3.10/site-packages (from streamlit->-r requirements.txt (line 10)) (4.3)\n",
      "Requirement already satisfied: pydeck>=0.1.dev5 in /root/miniconda3/envs/NLPpython/lib/python3.10/site-packages (from streamlit->-r requirements.txt (line 10)) (0.8.1b0)\n",
      "Requirement already satisfied: cachetools>=4.0 in /root/miniconda3/envs/NLPpython/lib/python3.10/site-packages (from streamlit->-r requirements.txt (line 10)) (5.3.0)\n",
      "Requirement already satisfied: rich>=10.11.0 in /root/miniconda3/envs/NLPpython/lib/python3.10/site-packages (from streamlit->-r requirements.txt (line 10)) (13.3.5)\n",
      "Requirement already satisfied: toml in /root/miniconda3/envs/NLPpython/lib/python3.10/site-packages (from streamlit->-r requirements.txt (line 10)) (0.10.2)\n",
      "Requirement already satisfied: validators>=0.2 in /root/miniconda3/envs/NLPpython/lib/python3.10/site-packages (from streamlit->-r requirements.txt (line 10)) (0.20.0)\n",
      "Requirement already satisfied: importlib-metadata>=1.4 in /root/miniconda3/envs/NLPpython/lib/python3.10/site-packages (from streamlit->-r requirements.txt (line 10)) (6.6.0)\n",
      "Requirement already satisfied: pympler>=0.9 in /root/miniconda3/envs/NLPpython/lib/python3.10/site-packages (from streamlit->-r requirements.txt (line 10)) (1.0.1)\n",
      "Requirement already satisfied: python-dateutil in /root/miniconda3/envs/NLPpython/lib/python3.10/site-packages (from streamlit->-r requirements.txt (line 10)) (2.8.2)\n",
      "Requirement already satisfied: entrypoints in /root/miniconda3/envs/NLPpython/lib/python3.10/site-packages (from altair>=4.2.0->gradio->-r requirements.txt (line 5)) (0.4)\n",
      "Requirement already satisfied: toolz in /root/miniconda3/envs/NLPpython/lib/python3.10/site-packages (from altair>=4.2.0->gradio->-r requirements.txt (line 5)) (0.12.0)\n",
      "Requirement already satisfied: jsonschema>=3.0 in /root/miniconda3/envs/NLPpython/lib/python3.10/site-packages (from altair>=4.2.0->gradio->-r requirements.txt (line 5)) (4.17.3)\n",
      "Requirement already satisfied: gitdb<5,>=4.0.1 in /root/miniconda3/envs/NLPpython/lib/python3.10/site-packages (from gitpython!=3.1.19->streamlit->-r requirements.txt (line 10)) (4.0.10)\n",
      "Requirement already satisfied: fsspec in /root/miniconda3/envs/NLPpython/lib/python3.10/site-packages (from gradio-client>=0.2.4->gradio->-r requirements.txt (line 5)) (2023.5.0)\n",
      "Requirement already satisfied: zipp>=0.5 in /root/miniconda3/envs/NLPpython/lib/python3.10/site-packages (from importlib-metadata>=1.4->streamlit->-r requirements.txt (line 10)) (3.15.0)\n",
      "Requirement already satisfied: mdurl~=0.1 in /root/miniconda3/envs/NLPpython/lib/python3.10/site-packages (from markdown-it-py[linkify]>=2.0.0->gradio->-r requirements.txt (line 5)) (0.1.2)\n",
      "Requirement already satisfied: linkify-it-py<3,>=1 in /root/miniconda3/envs/NLPpython/lib/python3.10/site-packages (from markdown-it-py[linkify]>=2.0.0->gradio->-r requirements.txt (line 5)) (2.0.2)\n",
      "Requirement already satisfied: tzdata>=2022.1 in /root/miniconda3/envs/NLPpython/lib/python3.10/site-packages (from pandas->gradio->-r requirements.txt (line 5)) (2023.3)\n",
      "Requirement already satisfied: pytz>=2020.1 in /root/miniconda3/envs/NLPpython/lib/python3.10/site-packages (from pandas->gradio->-r requirements.txt (line 5)) (2023.3)\n",
      "Requirement already satisfied: six>=1.5 in /root/miniconda3/envs/NLPpython/lib/python3.10/site-packages (from python-dateutil->streamlit->-r requirements.txt (line 10)) (1.16.0)\n",
      "Requirement already satisfied: certifi>=2017.4.17 in /root/miniconda3/envs/NLPpython/lib/python3.10/site-packages (from requests->transformers==4.27.1->-r requirements.txt (line 2)) (2023.5.7)\n",
      "Requirement already satisfied: charset-normalizer<4,>=2 in /root/miniconda3/envs/NLPpython/lib/python3.10/site-packages (from requests->transformers==4.27.1->-r requirements.txt (line 2)) (3.1.0)\n",
      "Requirement already satisfied: urllib3<3,>=1.21.1 in /root/miniconda3/envs/NLPpython/lib/python3.10/site-packages (from requests->transformers==4.27.1->-r requirements.txt (line 2)) (2.0.2)\n",
      "Requirement already satisfied: idna<4,>=2.5 in /root/miniconda3/envs/NLPpython/lib/python3.10/site-packages (from requests->transformers==4.27.1->-r requirements.txt (line 2)) (3.4)\n",
      "Requirement already satisfied: pytz-deprecation-shim in /root/miniconda3/envs/NLPpython/lib/python3.10/site-packages (from tzlocal>=1.1->streamlit->-r requirements.txt (line 10)) (0.1.0.post0)\n",
      "Requirement already satisfied: h11>=0.8 in /root/miniconda3/envs/NLPpython/lib/python3.10/site-packages (from uvicorn>=0.14.0->gradio->-r requirements.txt (line 5)) (0.14.0)\n",
      "Requirement already satisfied: decorator>=3.4.0 in /root/miniconda3/envs/NLPpython/lib/python3.10/site-packages (from validators>=0.2->streamlit->-r requirements.txt (line 10)) (5.1.1)\n",
      "Requirement already satisfied: async-timeout<5.0,>=4.0.0a3 in /root/miniconda3/envs/NLPpython/lib/python3.10/site-packages (from aiohttp->gradio->-r requirements.txt (line 5)) (4.0.2)\n",
      "Requirement already satisfied: aiosignal>=1.1.2 in /root/miniconda3/envs/NLPpython/lib/python3.10/site-packages (from aiohttp->gradio->-r requirements.txt (line 5)) (1.3.1)\n",
      "Requirement already satisfied: multidict<7.0,>=4.5 in /root/miniconda3/envs/NLPpython/lib/python3.10/site-packages (from aiohttp->gradio->-r requirements.txt (line 5)) (6.0.4)\n",
      "Requirement already satisfied: frozenlist>=1.1.1 in /root/miniconda3/envs/NLPpython/lib/python3.10/site-packages (from aiohttp->gradio->-r requirements.txt (line 5)) (1.3.3)\n",
      "Requirement already satisfied: attrs>=17.3.0 in /root/miniconda3/envs/NLPpython/lib/python3.10/site-packages (from aiohttp->gradio->-r requirements.txt (line 5)) (23.1.0)\n",
      "Requirement already satisfied: yarl<2.0,>=1.0 in /root/miniconda3/envs/NLPpython/lib/python3.10/site-packages (from aiohttp->gradio->-r requirements.txt (line 5)) (1.9.2)\n",
      "Requirement already satisfied: starlette<0.27.0,>=0.26.1 in /root/miniconda3/envs/NLPpython/lib/python3.10/site-packages (from fastapi->gradio->-r requirements.txt (line 5)) (0.26.1)\n",
      "Requirement already satisfied: sniffio in /root/miniconda3/envs/NLPpython/lib/python3.10/site-packages (from httpx->gradio->-r requirements.txt (line 5)) (1.3.0)\n",
      "Requirement already satisfied: httpcore<0.18.0,>=0.15.0 in /root/miniconda3/envs/NLPpython/lib/python3.10/site-packages (from httpx->gradio->-r requirements.txt (line 5)) (0.17.0)\n",
      "Requirement already satisfied: cycler>=0.10 in /root/miniconda3/envs/NLPpython/lib/python3.10/site-packages (from matplotlib->gradio->-r requirements.txt (line 5)) (0.11.0)\n",
      "Requirement already satisfied: contourpy>=1.0.1 in /root/miniconda3/envs/NLPpython/lib/python3.10/site-packages (from matplotlib->gradio->-r requirements.txt (line 5)) (1.0.7)\n",
      "Requirement already satisfied: kiwisolver>=1.0.1 in /root/miniconda3/envs/NLPpython/lib/python3.10/site-packages (from matplotlib->gradio->-r requirements.txt (line 5)) (1.4.4)\n",
      "Requirement already satisfied: pyparsing>=2.3.1 in /root/miniconda3/envs/NLPpython/lib/python3.10/site-packages (from matplotlib->gradio->-r requirements.txt (line 5)) (3.0.9)\n",
      "Requirement already satisfied: fonttools>=4.22.0 in /root/miniconda3/envs/NLPpython/lib/python3.10/site-packages (from matplotlib->gradio->-r requirements.txt (line 5)) (4.39.4)\n",
      "Requirement already satisfied: mpmath>=0.19 in /root/miniconda3/envs/NLPpython/lib/python3.10/site-packages (from sympy->torch>=1.10->-r requirements.txt (line 4)) (1.3.0)\n",
      "Requirement already satisfied: smmap<6,>=3.0.1 in /root/miniconda3/envs/NLPpython/lib/python3.10/site-packages (from gitdb<5,>=4.0.1->gitpython!=3.1.19->streamlit->-r requirements.txt (line 10)) (5.0.0)\n",
      "Requirement already satisfied: anyio<5.0,>=3.0 in /root/miniconda3/envs/NLPpython/lib/python3.10/site-packages (from httpcore<0.18.0,>=0.15.0->httpx->gradio->-r requirements.txt (line 5)) (3.6.2)\n",
      "Requirement already satisfied: pyrsistent!=0.17.0,!=0.17.1,!=0.17.2,>=0.14.0 in /root/miniconda3/envs/NLPpython/lib/python3.10/site-packages (from jsonschema>=3.0->altair>=4.2.0->gradio->-r requirements.txt (line 5)) (0.19.3)\n",
      "Requirement already satisfied: uc-micro-py in /root/miniconda3/envs/NLPpython/lib/python3.10/site-packages (from linkify-it-py<3,>=1->markdown-it-py[linkify]>=2.0.0->gradio->-r requirements.txt (line 5)) (1.0.2)\n",
      "\u001b[33mWARNING: Running pip as the 'root' user can result in broken permissions and conflicting behaviour with the system package manager. It is recommended to use a virtual environment instead: https://pip.pypa.io/warnings/venv\u001b[0m\u001b[33m\n",
      "\u001b[0mNote: you may need to restart the kernel to use updated packages.\n"
     ]
    }
   ],
   "source": [
    "# 配置python环境\n",
    "!conda activate NLPpython\n",
    "%pip install -r requirements.txt -i https://pypi.tuna.tsinghua.edu.cn/simple"
   ]
  },
  {
   "attachments": {},
   "cell_type": "markdown",
   "metadata": {},
   "source": [
    "## 进行微调"
   ]
  },
  {
   "cell_type": "code",
   "execution_count": 9,
   "metadata": {},
   "outputs": [
    {
     "name": "stdout",
     "output_type": "stream",
     "text": [
      "/root/autodl-tmp/model/knowledge_base/ChatRats/ptuning/utils\n"
     ]
    }
   ],
   "source": [
    "PRE_SEQ_LEN=128\n",
    "LR=2e-2\n",
    "\n",
    "!CUDA_VISIBLE_DEVICES=0\n",
    "\n",
    "!cd utils/ && python3 main.py \\\n",
    "    --do_train \\\n",
    "    --train_file ../../data/merged.json \\\n",
    "    --validation_file ../../data/val_set.json \\\n",
    "    --prompt_column question \\\n",
    "    --response_column answer \\\n",
    "    --overwrite_cache \\\n",
    "    --model_name_or_path ../../chatglm-6b-int4 \\\n",
    "    --output_dir output/adgen-chatglm-6b-pt-$PRE_SEQ_LEN-$LR \\\n",
    "    --overwrite_output_dir \\\n",
    "    --max_source_length 128 \\\n",
    "    --max_target_length 128 \\\n",
    "    --per_device_train_batch_size 1 \\\n",
    "    --per_device_eval_batch_size 1 \\\n",
    "    --gradient_accumulation_steps 16 \\\n",
    "    --predict_with_generate \\\n",
    "    --max_steps 6000 \\\n",
    "    --logging_steps 10 \\\n",
    "    --save_steps 1000 \\\n",
    "    --learning_rate $LR \\\n",
    "    --pre_seq_len $PRE_SEQ_LEN \\\n",
    "    --quantization_bit 4\n"
   ]
  },
  {
   "attachments": {},
   "cell_type": "markdown",
   "metadata": {},
   "source": [
    "## 微调评估"
   ]
  },
  {
   "cell_type": "code",
   "execution_count": null,
   "metadata": {},
   "outputs": [],
   "source": [
    "PRE_SEQ_LEN=128\n",
    "CHECKPOINT=\"adgen-chatglm-6b-pt-128-2e-2\"\n",
    "STEP=6000\n",
    "\n",
    "!CUDA_VISIBLE_DEVICES=0\n",
    "!cd utils/ && python3 main.py \\\n",
    "    --do_predict \\\n",
    "    --validation_file ../../val_set.json \\\n",
    "    --test_file ../../test_set.json \\\n",
    "    --overwrite_cache \\\n",
    "    --prompt_column question \\\n",
    "    --response_column answer \\\n",
    "    --model_name_or_path ../../chatglm-6b-int4 \\\n",
    "    --ptuning_checkpoint output/$CHECKPOINT/checkpoint-$STEP \\\n",
    "    --output_dir output/$CHECKPOINT \\\n",
    "    --overwrite_output_dir \\\n",
    "    --max_source_length 128 \\\n",
    "    --max_target_length 128 \\\n",
    "    --per_device_eval_batch_size 1 \\\n",
    "    --predict_with_generate \\\n",
    "    --pre_seq_len $PRE_SEQ_LEN \\\n",
    "    --quantization_bit 4\n"
   ]
  }
 ],
 "metadata": {
  "kernelspec": {
   "display_name": "NLPpython",
   "language": "python",
   "name": "nlppython"
  },
  "language_info": {
   "codemirror_mode": {
    "name": "ipython",
    "version": 3
   },
   "file_extension": ".py",
   "mimetype": "text/x-python",
   "name": "python",
   "nbconvert_exporter": "python",
   "pygments_lexer": "ipython3",
   "version": "3.10.11"
  },
  "orig_nbformat": 4
 },
 "nbformat": 4,
 "nbformat_minor": 2
}
